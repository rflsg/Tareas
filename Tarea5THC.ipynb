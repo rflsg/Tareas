{
  "nbformat": 4,
  "nbformat_minor": 0,
  "metadata": {
    "colab": {
      "provenance": [],
      "authorship_tag": "ABX9TyNbdOiIMjvBq4cJqffn8wuL",
      "include_colab_link": true
    },
    "kernelspec": {
      "name": "python3",
      "display_name": "Python 3"
    },
    "language_info": {
      "name": "python"
    }
  },
  "cells": [
    {
      "cell_type": "markdown",
      "metadata": {
        "id": "view-in-github",
        "colab_type": "text"
      },
      "source": [
        "<a href=\"https://colab.research.google.com/github/rflsg/Tareas/blob/main/Tarea5THC.ipynb\" target=\"_parent\"><img src=\"https://colab.research.google.com/assets/colab-badge.svg\" alt=\"Open In Colab\"/></a>"
      ]
    },
    {
      "cell_type": "markdown",
      "source": [
        "Suma de matrices rectangulares."
      ],
      "metadata": {
        "id": "Ltl5wutKRHg6"
      }
    },
    {
      "cell_type": "code",
      "source": [
        "import numpy as np\n",
        "#Sánchez García Rafael\n",
        "\n",
        "def suma(A,B): #Definimos nuestra funcion con dos valores para las dos matrices\n",
        "  d={}\n",
        "  l1=[]\n",
        "  #Creamos un diccionario y una lista vacia para tener un lugar en donde colocar\n",
        "  #los datos que obtendremos en la funcion\n",
        "  for i in range(A.shape[0]):\n",
        "    \"\"\"\n",
        "    Comenzamos un ciclo for para un indice que va cambiando valores en un rango\n",
        "    del 0 hasta el numero de filas de nuestra matriz.\n",
        "    \"\"\"\n",
        "    d[\"f\"+str(i)]=[]\n",
        "    \"\"\"\n",
        "     Para cada fila creamos una entrada en el diccionario cuyo nombre es f y el\n",
        "     indice de la fila en la que lo creamos, en el caso de la primera fila, su\n",
        "     nombre es f0 y su contenido es simplemente una lista vacia.\n",
        "    \"\"\"\n",
        "    for q in range(A.shape[1]):\n",
        "      \"\"\"\n",
        "      Iniciamos otro ciclo for cuyo indice va cambiando en un rango de 0 al\n",
        "      numero de columnas, es decir el numero de columnas por cada fila.\n",
        "      \"\"\"\n",
        "      s=A[i,q]+B[i,q] #La suma de los elementos de la matriz\n",
        "      d[\"f\"+str(i)] += [s]\n",
        "      \"\"\"\n",
        "      Añadimos (append) a nuestra lista vacia que creamos al inicio del ciclo\n",
        "      la suma de los elementos de la matriz que coinciden con el numero de fila\n",
        "      (i) y con el numero de columna (q) de nuestros ciclos.\n",
        "      \"\"\"\n",
        "    l1.append(d[\"f\"+str(i)]) #Despues añadimos esa lista a nuestra lista vacia.\n",
        "  x=np.array(l1)\n",
        "  return x #Finalmente formamos un array con nuestra lista y regresamos\n",
        "           #el valor de la funcion.\n",
        "\n",
        "a1=np.array([[1,2,3],\n",
        "            [4,5,6]])\n",
        "a2=np.array([[1,2,3],\n",
        "            [4,5,6]])\n",
        "\n",
        "suma(a1,a2)"
      ],
      "metadata": {
        "colab": {
          "base_uri": "https://localhost:8080/"
        },
        "id": "2SL1rnl9YUuc",
        "outputId": "fa1361e6-2a67-43b6-eb26-63772bfcaac3"
      },
      "execution_count": 45,
      "outputs": [
        {
          "output_type": "execute_result",
          "data": {
            "text/plain": [
              "array([[ 2,  4,  6],\n",
              "       [ 8, 10, 12]])"
            ]
          },
          "metadata": {},
          "execution_count": 45
        }
      ]
    },
    {
      "cell_type": "markdown",
      "source": [
        "Multiplicación de matrices rectangulares."
      ],
      "metadata": {
        "id": "phVZZBR9QFkn"
      }
    },
    {
      "cell_type": "code",
      "source": [
        "import numpy as np\n",
        "#Sánchez García Rafael\n",
        "\n",
        "#El proceso es basicamente el mismo que la suma pero cambiamos la suma por una\n",
        "#multiplicacion\n",
        "def multiplicacion(A,B):\n",
        "  d={}\n",
        "  l1=[]\n",
        "  for i in range(A.shape[0]):\n",
        "    d[\"f\"+str(i)]=[]\n",
        "    for q in range(A.shape[1]):\n",
        "      m=A[i,q]*B[i,q]\n",
        "      d[\"f\"+str(i)] += [m]\n",
        "    l1.append(d[\"f\"+str(i)])\n",
        "  x=np.array(l1)\n",
        "  return x\n",
        "\n",
        "a1=np.array([[1,2,3],\n",
        "            [4,5,6]])\n",
        "a2=np.array([[1,2,3],\n",
        "            [4,5,6]])\n",
        "\n",
        "multiplicacion(a1,a2)"
      ],
      "metadata": {
        "colab": {
          "base_uri": "https://localhost:8080/"
        },
        "id": "A7D5dlGGM4XQ",
        "outputId": "f504feae-b5d4-495a-de31-f7ec832a7445"
      },
      "execution_count": 46,
      "outputs": [
        {
          "output_type": "execute_result",
          "data": {
            "text/plain": [
              "array([[ 1,  4,  9],\n",
              "       [16, 25, 36]])"
            ]
          },
          "metadata": {},
          "execution_count": 46
        }
      ]
    },
    {
      "cell_type": "markdown",
      "source": [
        "Taza de una matriz."
      ],
      "metadata": {
        "id": "YJeti28HQHC6"
      }
    },
    {
      "cell_type": "code",
      "source": [
        "import numpy as np\n",
        "#Sánchez García Rafael\n",
        "\n",
        "def taza(A): #Definimos la funcion con un a sola variable para la matriz.\n",
        "  l=[] #Creamos una lista vacia.\n",
        "  for i in range(A.shape[0]):#Creamos un for para las filas de la matriz\n",
        "    for q in range(A.shape[1]):#En cada una de las filas hacemos otro for para las columnas\n",
        "      if i==q: #Revisamos si el numero de columna es el mismo que el numero de fila\n",
        "        l.append(A[i,q]) #Si lo es añadimos este elemento a la lista.\n",
        "  x=sum(l) #Finalmente sumamos todos los elementos de la lista y regresamos ese valor.\n",
        "  return x\n",
        "\n",
        "a1=np.array([[3,2,3],\n",
        "             [4,1,6],\n",
        "             [7,8,20]])\n",
        "\n",
        "taza(a1)"
      ],
      "metadata": {
        "colab": {
          "base_uri": "https://localhost:8080/"
        },
        "id": "WkcpFT9sQHoK",
        "outputId": "e83c5ca3-2ced-4165-cbdb-ca689065d19c"
      },
      "execution_count": 47,
      "outputs": [
        {
          "output_type": "execute_result",
          "data": {
            "text/plain": [
              "24"
            ]
          },
          "metadata": {},
          "execution_count": 47
        }
      ]
    },
    {
      "cell_type": "markdown",
      "source": [
        "Transpuesta de una matriz."
      ],
      "metadata": {
        "id": "39tonlR4HUgX"
      }
    },
    {
      "cell_type": "code",
      "source": [
        "import numpy as np\n",
        "#Sánchez García Rafael\n",
        "\n",
        "def transpuesta(A): #Definimos la funcion transpuesta con una sola variable\n",
        "  l=[] #Creamos una lista y un diccionario vacios\n",
        "  d={}\n",
        "  for i in range(A.shape[1]): #Un for que nos crea una entrada en el diccionario\n",
        "                              #con el numero de la columna\n",
        "    d['c'+str(i)]=[]\n",
        "    for q in range(A.shape[0]):#Un for que añade a la entrada del diccionario\n",
        "                               #que creamos anteriormente un elemento de la matriz\n",
        "                               #que coincide con el numero de columna y fila\n",
        "                               #actual.\n",
        "      d['c'+str(i)].append(A[q,i])\n",
        "    l.append(d['c'+str(i)])#Añade cada elemento del diccionario a la lista\n",
        "    x=np.array(l)#Y finalmente creamos un array con los valores de la lista\n",
        "  return x\n",
        "\n",
        "a1=np.array([[1,2,3],\n",
        "             [4,5,6],\n",
        "             [7,8,9]])\n",
        "\n",
        "transpuesta(a1)"
      ],
      "metadata": {
        "colab": {
          "base_uri": "https://localhost:8080/"
        },
        "id": "7XNCgKbDXW2k",
        "outputId": "aac6173c-b43a-45c9-a852-7e03e4c42412"
      },
      "execution_count": 48,
      "outputs": [
        {
          "output_type": "execute_result",
          "data": {
            "text/plain": [
              "array([[1, 4, 7],\n",
              "       [2, 5, 8],\n",
              "       [3, 6, 9]])"
            ]
          },
          "metadata": {},
          "execution_count": 48
        }
      ]
    },
    {
      "cell_type": "markdown",
      "source": [
        "Elementos minimos y maximos de una matriz."
      ],
      "metadata": {
        "id": "K0O6RUk4HWxB"
      }
    },
    {
      "cell_type": "code",
      "source": [
        "import numpy as np\n",
        "#Sánchez García Rafael\n",
        "\n",
        "def minmax(A):#Definimos la funcion con una sola variable\n",
        "  l=[]#Creamos una lista vacia\n",
        "  for i in range(A.shape[0]):\n",
        "    for q in range(A.shape[1]):#Usamos dos for para agregar a los elementos\n",
        "                               #de la matriz a nuestra lista vacia\n",
        "      l.append(A[i,q])\n",
        "  x=min(l) #Y finalmente solo usamos la funcion de minimo y maximo para\n",
        "           #poder encontrar los elementos maximos y minimos de la lista.\n",
        "  print('El mínimo es:',x)\n",
        "  y=max(l)\n",
        "  print('El máximo es:',y)\n",
        "\n",
        "a1=np.array([[1,2,3],\n",
        "             [4,5,6],\n",
        "             [7,8,9]])\n",
        "\n",
        "minmax(a1)"
      ],
      "metadata": {
        "id": "lmYTHg9OlPIU",
        "colab": {
          "base_uri": "https://localhost:8080/"
        },
        "outputId": "70e2c7aa-9e2f-41cc-a637-6041540f3dca"
      },
      "execution_count": 49,
      "outputs": [
        {
          "output_type": "stream",
          "name": "stdout",
          "text": [
            "El mínimo es: 1\n",
            "El máximo es: 9\n"
          ]
        }
      ]
    },
    {
      "cell_type": "markdown",
      "source": [
        "Suma de los cuadrados de los elementos de una matriz."
      ],
      "metadata": {
        "id": "9HTRs_JeHZGG"
      }
    },
    {
      "cell_type": "code",
      "source": [
        "import numpy as np\n",
        "#Sánchez García Rafael\n",
        "\n",
        "#El mismo proceso que el ejercicio anterior pero ahora en lugar de usar la\n",
        "#funcion que nos permite encontrar el minimo y el maximo simplemente usamos\n",
        "#la que nos permite sumar los elementos de la matriz.\n",
        "def sumsqr(A):\n",
        "  l=[]\n",
        "  for i in range(A.shape[0]):\n",
        "    for q in range(A.shape[1]):\n",
        "      l.append(A[i,q]**2)#Un pequeño cambio es que cada que agregamos un\n",
        "                         #un elemento de la matriz lo elevamos a su segunda\n",
        "                         #potecia.\n",
        "  x=sum(l)\n",
        "  return x\n",
        "\n",
        "a1=np.array([[1,2,3],\n",
        "             [4,5,6],\n",
        "             [7,8,9]])\n",
        "\n",
        "sumsqr(a1)"
      ],
      "metadata": {
        "colab": {
          "base_uri": "https://localhost:8080/"
        },
        "id": "H-oIwYZRGv8t",
        "outputId": "61a9de1f-78da-43ce-e1b9-80cfcb6166c2"
      },
      "execution_count": 50,
      "outputs": [
        {
          "output_type": "execute_result",
          "data": {
            "text/plain": [
              "285"
            ]
          },
          "metadata": {},
          "execution_count": 50
        }
      ]
    },
    {
      "cell_type": "markdown",
      "source": [
        "Potencias de matrices."
      ],
      "metadata": {
        "id": "RKcPTf84Hujo"
      }
    },
    {
      "cell_type": "code",
      "source": [
        "import numpy as np\n",
        "#Sánchez García Rafael\n",
        "\n",
        "def m(A,B): #Funcion de multiplicacion del ejercicio anterior\n",
        "  d={}\n",
        "  l1=[]\n",
        "  for i in range(A.shape[0]):\n",
        "    d[\"f\"+str(i)]=[]\n",
        "    for q in range(A.shape[1]):\n",
        "      m=A[i,q]*B[i,q]\n",
        "      d[\"f\"+str(i)] += [m]\n",
        "    l1.append(d[\"f\"+str(i)])\n",
        "  x=np.array(l1)\n",
        "  return x\n",
        "\n",
        "def pot(A,n):#Definimos una funcion con dos variables, una para la matriz y la\n",
        "             #segunda para la potencia a la que deseamos elevarla.\n",
        "  d={}#Creamos un diccionario vacio\n",
        "  if n<=0:#Checamos si el valor de la potencia es menor o igual a 0\n",
        "    return('No podemos elevar al 0 o numeros negativos')\n",
        "  else:\n",
        "    for i in range(n):#Tomamos el rango de 0 a la potencia que usamos.\n",
        "      if i<1:#Si el indice tiene un valor menor a 1 solo crea una entrada en el\n",
        "             #diccionario la cual contiene el valor de la matriz sin cambio\n",
        "             #alguno.\n",
        "        d['p'+str(i)]=A\n",
        "      else:#Al pasar a los siguientes valores, toma el valor de la potencia\n",
        "           #anterior llamando a la entrada del diccionario y usando la funcion\n",
        "           #de multiplicacion, multiplica el valor anterior por la matriz\n",
        "           #inical.\n",
        "        d['p'+str(i)]=m(d['p'+str(i-1)],A)\n",
        "  x=d['p'+str(n-1)]#Finalmente al llegar al ultimo valor del rango, toma la\n",
        "                   #ultima entrada del diccionario y regresa su valor.\n",
        "  return(x)\n",
        "\n",
        "a1=np.array([[-1,0,-1],\n",
        "             [0,-1,0],\n",
        "             [-1,0,-1]])\n",
        "\n",
        "pot(a1,4)"
      ],
      "metadata": {
        "colab": {
          "base_uri": "https://localhost:8080/"
        },
        "id": "4SxnHaeoIcmF",
        "outputId": "1141da2f-0cf8-4af9-86ee-7fbf79ace4f3"
      },
      "execution_count": 51,
      "outputs": [
        {
          "output_type": "execute_result",
          "data": {
            "text/plain": [
              "array([[1, 0, 1],\n",
              "       [0, 1, 0],\n",
              "       [1, 0, 1]])"
            ]
          },
          "metadata": {},
          "execution_count": 51
        }
      ]
    },
    {
      "cell_type": "markdown",
      "source": [
        "Operaciones con dos matrices dadas."
      ],
      "metadata": {
        "id": "7E-XamzfHxDW"
      }
    },
    {
      "cell_type": "code",
      "source": [
        "import numpy as np\n",
        "#Sánchez García Rafael\n",
        "\n",
        "#En este caso solo usamos las funciones creadas anteriormente para conseguir\n",
        "#los resultados de las operaciones que queremos, aunque resulta un poco tedioso\n",
        "#ya que las operaciones entre matrices solo estan definidas para parejas de\n",
        "#matrices.\n",
        "def suma(A,B):\n",
        "  d={}\n",
        "  l1=[]\n",
        "  for i in range(A.shape[0]):\n",
        "    d[\"f\"+str(i)]=[]\n",
        "    for q in range(A.shape[1]):\n",
        "      s=A[i,q]+B[i,q]\n",
        "      d[\"f\"+str(i)] += [s]\n",
        "    l1.append(d[\"f\"+str(i)])\n",
        "  x=np.array(l1)\n",
        "  return x\n",
        "\n",
        "def m(A,B):\n",
        "  d={}\n",
        "  l1=[]\n",
        "  for i in range(A.shape[0]):\n",
        "    d[\"f\"+str(i)]=[]\n",
        "    for q in range(A.shape[1]):\n",
        "      m=A[i,q]*B[i,q]\n",
        "      d[\"f\"+str(i)] += [m]\n",
        "    l1.append(d[\"f\"+str(i)])\n",
        "  x=np.array(l1)\n",
        "  return x\n",
        "\n",
        "def pot(A,n):\n",
        "  d={}\n",
        "  if n<=0:\n",
        "    return('no')\n",
        "  else:\n",
        "    for i in range(n):\n",
        "      if i<1:\n",
        "        d['p'+str(i)]=A\n",
        "      else:\n",
        "        d['p'+str(i)]=m(d['p'+str(i-1)],A)\n",
        "  x=d['p'+str(n-1)]\n",
        "  return x\n",
        "\n",
        "A=np.array([[11,7,-1],\n",
        "            [-3,5,2],\n",
        "            [4,2,-2]])\n",
        "B=np.array([[1,1,1],\n",
        "            [10,3,-5],\n",
        "            [-6,-10,-3]])\n",
        "\n",
        "print(suma((suma(B,B)),(suma(suma(A,A),A))))\n",
        "print(pot(suma(B,suma(A,A)),2))\n",
        "print(suma(pot(A,2),(suma(B,suma(B,B)))))"
      ],
      "metadata": {
        "colab": {
          "base_uri": "https://localhost:8080/"
        },
        "id": "SucjLCZST5f3",
        "outputId": "460de40f-03c8-4ece-8f90-fb817b18a203"
      },
      "execution_count": 52,
      "outputs": [
        {
          "output_type": "stream",
          "name": "stdout",
          "text": [
            "[[ 35  23  -1]\n",
            " [ 11  21  -4]\n",
            " [  0 -14 -12]]\n",
            "[[529 225   1]\n",
            " [ 16 169   1]\n",
            " [  4  36  49]]\n",
            "[[124  52   4]\n",
            " [ 39  34 -11]\n",
            " [ -2 -26  -5]]\n"
          ]
        }
      ]
    },
    {
      "cell_type": "markdown",
      "source": [
        "Graficar familia de curvas."
      ],
      "metadata": {
        "id": "tNyCKbZYRrrR"
      }
    },
    {
      "cell_type": "code",
      "source": [
        "import matplotlib.pyplot as plt\n",
        "import numpy as np\n",
        "#Sánchez García Rafael\n",
        "\n",
        "fig = plt.figure()\n",
        "ax = fig.add_subplot() #Añadimos una figura y un subplot\n",
        "\n",
        "x=np.linspace(-10,10,1000)\n",
        "m=np.linspace(-10,0,1000)\n",
        "g=np.linspace(0,10,1000) #Creamos varios linspace con 1000 muestras cada uno\n",
        "                         #para poder graficar los valores de x y de C.\n",
        "y=((1-x)+(m*(1/(2.71**-x))))\n",
        "z=((1-x)+(g*(1/(2.71**-x))))\n",
        "p=((1-x)) #Definimos la funcion 3 veces, una para valores negativos de C, otra\n",
        "          #para valores positivos y una ultima final cuando C=0.\n",
        "mayor=ax.plot(x,y,label='Menores a 0')\n",
        "menor=ax.plot(x,z,label='Mayores a 0')\n",
        "igual=ax.plot(x,p,label='Igual a 0') #Graficamos en el sublplot creado y\n",
        "                                     #añadimos labels.\n",
        "\n",
        "ax.set_ylim(-5000,5000) #Ponemos los limites de y\n",
        "ax.legend(loc='upper left') #Añadimos leyendas, grids, ponemos nombre a los ejes\n",
        "                            #añadimos un titulo y mostramos la grafica.\n",
        "ax.grid(True)\n",
        "ax.set_xlabel('x')\n",
        "ax.set_ylabel('y')\n",
        "ax.set_title('Famila de curvas')\n",
        "plt.show()"
      ],
      "metadata": {
        "colab": {
          "base_uri": "https://localhost:8080/",
          "height": 472
        },
        "id": "-9WNYwYNT2L6",
        "outputId": "5d165d8b-9800-4b85-bbd5-a37573aa3658"
      },
      "execution_count": 53,
      "outputs": [
        {
          "output_type": "display_data",
          "data": {
            "text/plain": [
              "<Figure size 640x480 with 1 Axes>"
            ],
            "image/png": "[encoded data removed]"
          },
          "metadata": {}
        }
      ]
    },
    {
      "cell_type": "markdown",
      "source": [
        "Graficar una función racional."
      ],
      "metadata": {
        "id": "BB9Cl-JPRuC4"
      }
    },
    {
      "cell_type": "code",
      "source": [
        "import matplotlib.pyplot as plt\n",
        "import numpy as np\n",
        "#Sánchez García Rafael\n",
        "\n",
        "np.seterr(divide='ignore') #Nos permite ignorar los errores al dividir entre 0\n",
        "\n",
        "fig = plt.figure()\n",
        "ax = fig.add_subplot() #Creamos una figura y un subplot.\n",
        "\n",
        "x = np.linspace (-10,-2, 1000)\n",
        "y = np.linspace (-2,2,1000)\n",
        "z = np.linspace (2,10,1000) #Creamos 3 linspace con numpy, esto principalmente\n",
        "                            #Para poder graficar la funcion en 3 diferentes\n",
        "                            #Partes y no encontrar problemas en los valores en\n",
        "                            #Que nuestra funcion no esta definida.\n",
        "\n",
        "line_eq1= ax.plot(x , (3*x + 7) / (x**2 - 4), lw=(1),color='b', label='Funcion')\n",
        "line_eq2= ax.plot(y , (3*y + 7) / (y**2 - 4), lw=(1),color='b')\n",
        "line_eq3= ax.plot(z , (3*z + 7) / (z**2 - 4), lw=(1),color='b')\n",
        "#Graficamos la funcion con el mismo color para todas y añadimos un label.\n",
        "\n",
        "ylim=ax.set_ylim(-15,15) #Ponemos el limite del eje y\n",
        "plt.vlines(-2,ylim[0],ylim[1],color='g',ls=':', label='Asintotas Verticales')\n",
        "plt.vlines(2,ylim[0],ylim[1],color='g',ls=':')\n",
        "plt.hlines(-0.7,-10,10,color='y',ls=':', label='Asintotas Horizontales')\n",
        "#Formamos 2 lineas verticales y 1 horizontal y delineamos cuales son los\n",
        "#limites que queremos para ellas, ademas agregamos color, labels y las hacemos\n",
        "#punteadas.\n",
        "\n",
        "ax.legend(loc='upper left')\n",
        "ax.grid(True)\n",
        "ax.set_xlabel('x')\n",
        "ax.set_ylabel('y')\n",
        "ax.set_title('Funcion Racional')\n",
        "plt.show () #Finalmente añadimos leyendas, un grid, nombras para los ejes, un\n",
        "            #Titulo y mostramos la grafica terminada."
      ],
      "metadata": {
        "id": "GsjFfepnZmpJ",
        "colab": {
          "base_uri": "https://localhost:8080/",
          "height": 472
        },
        "outputId": "c2484067-4434-4b90-ad13-7d71800e789a"
      },
      "execution_count": 54,
      "outputs": [
        {
          "output_type": "display_data",
          "data": {
            "text/plain": [
              "<Figure size 640x480 with 1 Axes>"
            ],
            "image/png": "[encoded data removed]"
          },
          "metadata": {}
        }
      ]
    }
  ]
}