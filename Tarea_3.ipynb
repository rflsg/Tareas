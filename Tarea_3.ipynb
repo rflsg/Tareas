{
  "nbformat": 4,
  "nbformat_minor": 0,
  "metadata": {
    "colab": {
      "provenance": [],
      "authorship_tag": "ABX9TyM2GXJAPO5yV8Mc+2tpCrb0",
      "include_colab_link": true
    },
    "kernelspec": {
      "name": "python3",
      "display_name": "Python 3"
    },
    "language_info": {
      "name": "python"
    }
  },
  "cells": [
    {
      "cell_type": "markdown",
      "metadata": {
        "id": "view-in-github",
        "colab_type": "text"
      },
      "source": [
        "<a href=\"https://colab.research.google.com/github/rflsg/Tareas/blob/main/Tarea_3.ipynb\" target=\"_parent\"><img src=\"https://colab.research.google.com/assets/colab-badge.svg\" alt=\"Open In Colab\"/></a>"
      ]
    },
    {
      "cell_type": "markdown",
      "source": [
        "V-1. Calculadora Simple"
      ],
      "metadata": {
        "id": "psvnfi44XUIk"
      }
    },
    {
      "cell_type": "code",
      "source": [
        "Num1=float(input(\"Primer numero = \"))\n",
        "Num2=float(input(\"Segundo numero = \"))\n",
        "\n",
        "print(\"Suma =\", Num1+Num2)\n",
        "print(\"Resta =\", Num1-Num2)\n",
        "print(\"Multiplicacion =\", Num1*Num2)\n",
        "print(\"Modulo =\", Num1%Num2)"
      ],
      "metadata": {
        "colab": {
          "base_uri": "https://localhost:8080/"
        },
        "id": "zop6VGfyXNrb",
        "outputId": "7519adce-0ad4-4f46-896f-b9c91a813d4d"
      },
      "execution_count": null,
      "outputs": [
        {
          "output_type": "stream",
          "name": "stdout",
          "text": [
            "Primer numero = 1\n",
            "Segundo numero = 2\n",
            "Suma = 3.0\n",
            "Resta = -1.0\n",
            "Multiplicacion = 2.0\n",
            "Modulo = 1.0\n"
          ]
        }
      ]
    },
    {
      "cell_type": "markdown",
      "source": [
        "V-2. Conversion de Temperatura"
      ],
      "metadata": {
        "id": "MpxPvkMgZMis"
      }
    },
    {
      "cell_type": "code",
      "source": [
        "Cel=float(input(\"Temperatura en Celcius: \"))\n",
        "Frn=(9*Cel)/5 + 32\n",
        "\n",
        "print(\"Esta es la temperatura en Farenheit: \",Frn)"
      ],
      "metadata": {
        "colab": {
          "base_uri": "https://localhost:8080/"
        },
        "id": "fQyXUEuSZdGM",
        "outputId": "68ecadd8-dd3f-4702-d779-e5fa452636a4"
      },
      "execution_count": null,
      "outputs": [
        {
          "output_type": "stream",
          "name": "stdout",
          "text": [
            "Temperatura en Celcius: 345\n",
            "Esta es la temperatura en Farenheit:  653.0\n"
          ]
        }
      ]
    },
    {
      "cell_type": "markdown",
      "source": [
        "V-4. Contador de Palabras"
      ],
      "metadata": {
        "id": "eLhw8tNUapNU"
      }
    },
    {
      "cell_type": "code",
      "source": [
        "Txt=input(\"Escriba un oracion: \")\n",
        "Wrds=Txt.split()\n",
        "print(\"El numero de palabras es: \",len(Wrds))"
      ],
      "metadata": {
        "colab": {
          "base_uri": "https://localhost:8080/"
        },
        "id": "CQAbUOonasZQ",
        "outputId": "77a8492a-675b-457a-8b77-2e43b19e2187"
      },
      "execution_count": null,
      "outputs": [
        {
          "output_type": "stream",
          "name": "stdout",
          "text": [
            "Escriba un oracion: Espero que te encuentres muy bien!\n",
            "El numero de palabras es:  6\n"
          ]
        }
      ]
    },
    {
      "cell_type": "markdown",
      "source": [
        "V-6. Calculo del promedio"
      ],
      "metadata": {
        "id": "BhuKbf5ygIby"
      }
    },
    {
      "cell_type": "code",
      "source": [
        "Nums=input(\"Escriba numeros separados por una coma: \")\n",
        "Aa=Nums.split(\",\")\n",
        "Bb=[float(x) for x in Aa]\n",
        "Prom=sum(Bb)/len(Bb)\n",
        "print(\"El promedio es: \", Prom)"
      ],
      "metadata": {
        "colab": {
          "base_uri": "https://localhost:8080/"
        },
        "id": "H7ksNCyigL7Q",
        "outputId": "d1f0c139-2bdd-42a5-b1a9-06e34cc0d5e2"
      },
      "execution_count": null,
      "outputs": [
        {
          "output_type": "stream",
          "name": "stdout",
          "text": [
            "Escriba numeros separados por una coma: 1,2,3,4\n",
            "El promedio es:  2.5\n"
          ]
        }
      ]
    },
    {
      "cell_type": "markdown",
      "source": [
        "V-10. Registro de estudiantes"
      ],
      "metadata": {
        "id": "11aotjthqa0k"
      }
    },
    {
      "cell_type": "code",
      "source": [
        "Input1=input(\"Escriba a los estudiantes separados por una coma: \")\n",
        "Input2=input(\"Escriba sus calificaciones separados por una coma: \")\n",
        "Est=Input1.split(\",\")\n",
        "Nums=Input2.split(\",\")\n",
        "Cal=[float(x) for x in Nums]\n",
        "Prom=sum(Cal)/len(Cal)\n",
        "print(\"Estudiantes: \")\n",
        "for x in Est:\n",
        "  print(\"- \", x)\n",
        "print(\"Calificaciones: \")\n",
        "for y in Nums:\n",
        "  print(\"- \", y)\n",
        "print(\"Promedio de la clase:\\n\", Prom)"
      ],
      "metadata": {
        "id": "1RTffYGcqdHQ",
        "colab": {
          "base_uri": "https://localhost:8080/"
        },
        "outputId": "4476aa0c-2d44-4ce2-e0fb-7612ef9e72dc"
      },
      "execution_count": null,
      "outputs": [
        {
          "output_type": "stream",
          "name": "stdout",
          "text": [
            "Escriba a los estudiantes separados por una coma: 1,2,3,4\n",
            "Escriba sus calificaciones separados por una coma: 1,2,3,4\n",
            "Estudiantes: \n",
            "-  1\n",
            "-  2\n",
            "-  3\n",
            "-  4\n",
            "Calificaciones: \n",
            "-  1\n",
            "-  2\n",
            "-  3\n",
            "-  4\n",
            "Promedio:\n",
            " 2.5\n"
          ]
        }
      ]
    },
    {
      "cell_type": "markdown",
      "source": [
        "SCT-2. Comentarios descriptivos."
      ],
      "metadata": {
        "id": "swzotrGdl56y"
      }
    },
    {
      "cell_type": "code",
      "source": [
        "H=float(input(\"Ingrese la altura del rectangulo: \"))\n",
        "#Le pide al usario ingresar un valor el cual posteriormente convierte de un str a un float.\n",
        "B=float(input(\"Ingrese la base del rectangulo: \"))\n",
        "#Lo mismo que el anterior.\n",
        "A=H*B2\n",
        "#Multiplica ambas variables con la formula del area para un rectangulo.\n",
        "if H==B: #Compara ambos valores de las variables para saber si son iguales.\n",
        "  print(\"El rectangulo es un cuadrado!\")\n",
        "  print(\"El area del cuadrado es: \", A)\n",
        "  #Si los valores son iguales manda estos dos mensajes.\n",
        "else: #Esto pasa si no lo son.\n",
        "  print(\"El area del rectangulo es: \", A)\n",
        "  #Manda un mensaje que incluye la variable del area."
      ],
      "metadata": {
        "colab": {
          "base_uri": "https://localhost:8080/"
        },
        "id": "zPi6SCRgl5ta",
        "outputId": "0ec8ec52-31d4-4276-f65f-b48768bfc7e2"
      },
      "execution_count": null,
      "outputs": [
        {
          "output_type": "stream",
          "name": "stdout",
          "text": [
            "Ingrese la altura del rectangulo: 1\n",
            "Ingrese la base del rectangulo: 1\n",
            "El rectangulo es un cuadrado!\n",
            "El area del cuadrado es:  1.0\n"
          ]
        }
      ]
    },
    {
      "cell_type": "markdown",
      "source": [
        "SCT-2. Comentarios Informativos."
      ],
      "metadata": {
        "id": "V3qggIOirIbo"
      }
    },
    {
      "cell_type": "code",
      "source": [
        "#Convertir los elementos pares de una lista en enteros y los impares en cadenas.\n",
        "L=[1.2,2,3,4,5.5,6.5,7,8] #Hacemos una cadena aleatoria de numeros.\n",
        "for i in L: #Comenamos un for para los elementos de L.\n",
        "  if i%2==0: #Revisa si el numero es par.\n",
        "    i=int(i)\n",
        "    print(i)        #Si es par convierte la variable a entero e imprime la variable y su tipo.\n",
        "    print(type(i))\n",
        "  else:\n",
        "    i=str(i)\n",
        "    print(i)        #Si no lo es convierte la variable en una cadena y la imprime y su tipo.\n",
        "    print(type(i))\n"
      ],
      "metadata": {
        "id": "GAhYp1YgrIKi",
        "colab": {
          "base_uri": "https://localhost:8080/"
        },
        "outputId": "00f2ad80-99a4-432f-8567-9db49864a679"
      },
      "execution_count": null,
      "outputs": [
        {
          "output_type": "stream",
          "name": "stdout",
          "text": [
            "1.2\n",
            "<class 'str'>\n",
            "2\n",
            "<class 'int'>\n",
            "3\n",
            "<class 'str'>\n",
            "4\n",
            "<class 'int'>\n",
            "5.5\n",
            "<class 'str'>\n",
            "6.5\n",
            "<class 'str'>\n",
            "7\n",
            "<class 'str'>\n",
            "8\n",
            "<class 'int'>\n"
          ]
        }
      ]
    },
    {
      "cell_type": "code",
      "source": [
        "a=str(input(\"Ingrese un mes: \"))\n",
        "Meses=[\"Enero\",\"Diciembre\"]\n",
        "Si=[\"S\",\"s\"]\n",
        "\n",
        "if a in Meses:\n",
        "   print(\"Usted escribió o enero o diciembre\")\n",
        "   b=input(\"Le gusta diciembre? S/N \")\n",
        "   if b in Si:\n",
        "      print(\"Feliz navidad!\")\n",
        "   else:\n",
        "      print(\"Que mala onda\")\n",
        "else:\n",
        "   print(\"Usted no escribió ni enero ni diciembre\")"
      ],
      "metadata": {
        "colab": {
          "base_uri": "https://localhost:8080/"
        },
        "id": "QOkugqFGhixI",
        "outputId": "07a0c804-77f1-4810-ccbb-8378fc23e73c"
      },
      "execution_count": null,
      "outputs": [
        {
          "output_type": "stream",
          "name": "stdout",
          "text": [
            "Ingrese un mes: Diciembre\n",
            "Usted escribió o enero o diciembre\n",
            "Le gusta diciembre? S/N S\n",
            "Feliz navidad!\n"
          ]
        }
      ]
    }
  ]
}