{
  "nbformat": 4,
  "nbformat_minor": 0,
  "metadata": {
    "colab": {
      "provenance": [],
      "include_colab_link": true
    },
    "kernelspec": {
      "name": "python3",
      "display_name": "Python 3"
    },
    "language_info": {
      "name": "python"
    }
  },
  "cells": [
    {
      "cell_type": "markdown",
      "metadata": {
        "id": "view-in-github",
        "colab_type": "text"
      },
      "source": [
        "<a href=\"https://colab.research.google.com/github/rflsg/Tareas/blob/main/THC_Rafael_Tarea4.ipynb\" target=\"_parent\"><img src=\"https://colab.research.google.com/assets/colab-badge.svg\" alt=\"Open In Colab\"/></a>"
      ]
    },
    {
      "cell_type": "markdown",
      "source": [
        "<font color=\"Red\" face=\"Comic Sans MS,arial\">\n",
        "  <h1 align=\"center\"><i>Tarea 4 de Python </i></h1>\n",
        "  </font>\n",
        "  \n",
        "> Elaborado por: Sánchez García Rafael\n",
        "\n",
        "> Miguel Ángel Carrillo Lucía. miguelcarrillo15@ciencias.unam.mx\n",
        "\n",
        "> Jesús Iván Coss Calderón. mat_ing_coss@ciencias.unam.mx"
      ],
      "metadata": {
        "id": "Acw5GbRohNTA"
      }
    },
    {
      "cell_type": "markdown",
      "source": [
        "**Objetivo general**\n",
        "\n",
        "* Demostrar los conocimientos adquiridos de bucles, listas y estructuras de control.\n",
        "\n",
        "**Objetivos particulares**\n",
        "\n",
        "* Aprender a resolver problemas prácticos usando python"
      ],
      "metadata": {
        "id": "-4IW6Nx2jBHt"
      }
    },
    {
      "cell_type": "markdown",
      "source": [
        "#**Ejercicio 1**:\n",
        "Diseña un programa que convierta dólares americanos a pesos mexicanos, euros, libras\n",
        "esterlinas, yuanes y rublos utilizando una tasa de cambio fija. Muestre la tasa de cambio e imprima los cinco resultados.\n"
      ],
      "metadata": {
        "id": "QZ7aCHF0TYtT"
      }
    },
    {
      "cell_type": "code",
      "source": [
        "p=input(\"Ingrese su cantidad en Dólares Americanos: \")\n",
        "Tasa={'Pesos Mexicanos':19.89, 'Euros':0.92, 'Libras Esterlinas':0.77, 'Yuanes':7.10, 'Rublos':95.79}\n",
        "\n",
        "try:\n",
        "  float(p)\n",
        "except:\n",
        "  print(p,\"no es un numero.\")\n",
        "else:\n",
        "  q=float(p)\n",
        "  for i in Tasa.keys():\n",
        "   m=Tasa[i]\n",
        "   print('La tasa de cambio es igual a: ',m)\n",
        "   print(p,'Dólares es igual a: ',round(m*q,2),i)\n",
        "\n",
        "\n",
        "\n"
      ],
      "metadata": {
        "id": "TBR-3raL8Epc"
      },
      "execution_count": null,
      "outputs": []
    },
    {
      "cell_type": "markdown",
      "source": [
        "#**Ejercicio 2**:\n",
        "Escribe un programa que pida al usuario su edad y clasifique la entrada en 'niño',\n",
        " 'adolescente', 'adulto' o 'adulto mayor'."
      ],
      "metadata": {
        "id": "G-aCihICT7hi"
      }
    },
    {
      "cell_type": "code",
      "source": [
        "e=input('Ingrese su edad: ')\n",
        "\n",
        "try:\n",
        "  float(e)\n",
        "except:\n",
        "  print('La edad ingresada no es un numero.')\n",
        "else:\n",
        "  e=float(e)\n",
        "  if e<12:\n",
        "    print(\"Niño\")\n",
        "  elif e>11 and e<19:\n",
        "    print(\"Adolescente\")\n",
        "  elif e>18 and e<60:\n",
        "    print(\"Adulto\")\n",
        "  else:\n",
        "    print(\"Adulto mayor\")"
      ],
      "metadata": {
        "id": "LeEsrq4p8FOs"
      },
      "execution_count": null,
      "outputs": []
    },
    {
      "cell_type": "markdown",
      "source": [
        "#**Ejercicio 3**:\n",
        "Desarrolla un programa que calcule el precio final de un producto después de aplicar un descuento.\n",
        " El usuario debe ingresar el precio original y el porcentaje de descuento. Imprima el precio final."
      ],
      "metadata": {
        "id": "oM_h9APNTIW9"
      }
    },
    {
      "cell_type": "code",
      "source": [
        "p=input('Ingresar el precio original: ')\n",
        "c=input('Ingresar el porcentaje de descuento: ')\n",
        "\n",
        "try:\n",
        "  float(p)\n",
        "  float(c)\n",
        "except:\n",
        "  print('Las cantidades ingresadas no son numeros')\n",
        "else:\n",
        "  p=float(p)\n",
        "  c=float(c)\n",
        "  d=c/100\n",
        "  print(\"El precio final es de: \",p-(p*d))"
      ],
      "metadata": {
        "id": "ay0KWLXf8F5k"
      },
      "execution_count": null,
      "outputs": []
    },
    {
      "cell_type": "markdown",
      "source": [
        "#**Ejercicio 4**:\n",
        "Crea un script que determine cuál de tres números introducidos por el usuario es el mayor,\n",
        "usando sentencias IF anidadas o múltiples ELIF."
      ],
      "metadata": {
        "id": "pXTw_US7UIhy"
      }
    },
    {
      "cell_type": "code",
      "source": [
        "n=input('Ingrese tres numeros separados por una coma: ')\n",
        "l= n.split(',')\n",
        "\n",
        "for i in l:\n",
        "  try:\n",
        "    float(i)\n",
        "  except:\n",
        "    print(i,'no es un numero')\n",
        "  else:\n",
        "    i=float(i)\n",
        "\n",
        "if len(l)==3:\n",
        "  a,b,c=l[0],l[1],l[2]\n",
        "  if a > b and a > c:\n",
        "   print(a)\n",
        "  elif b > c:\n",
        "   print(b)\n",
        "  else:\n",
        "    print(c)\n",
        "else:\n",
        "  print('No ingresó tres numeros')"
      ],
      "metadata": {
        "id": "oSJXRXBb8Gck"
      },
      "execution_count": null,
      "outputs": []
    },
    {
      "cell_type": "markdown",
      "source": [
        "#**Ejercicio 5**:\n",
        "Programe una función que resuelva ecuaciones de segundo grado utilizando la fórmula general.\n",
        "El usuario debe ingresar los valores de a, b y c. Genere valores por default por si el usuario no ingresa\n",
        "un número entero o flotante. Además, calcule el valor del discriminante\n",
        "(b^2 - 4ac) y determine si tiene soluciones reales, soluciones complejas. Imprima el resultado."
      ],
      "metadata": {
        "id": "LJgQNYz1Tmaj"
      }
    },
    {
      "cell_type": "code",
      "source": [
        "t=input('Ingrese los valores de a,b y c de la ecuacion: ')\n",
        "j=t.split(',')\n",
        "\n",
        "def ecuacion(a=1,b=2,c=1):\n",
        "  d=((b**2)-4*a*c)\n",
        "  if d >= 0:\n",
        "    print(str(a)+'x^2 + '+str(b)+'x + '+str(c))\n",
        "    print('Tiene soluciones reales')\n",
        "    e=((-b-d**(1/2))/2*c)\n",
        "    m=((-b+d**(1/2))/2*c)\n",
        "    print(e)\n",
        "    print(m)\n",
        "  else:\n",
        "    print(str(a)+'x^2 + '+str(b)+'x + '+str(c))\n",
        "    print('Tiene soluciones complejas')\n",
        "\n",
        "try:\n",
        "  for i in j:\n",
        "    i=float(i)\n",
        "except:\n",
        "  print('No ingreso correctamente los valores')\n",
        "  ecuacion()\n",
        "else:\n",
        "  n=[float(i) for i in j]\n",
        "  if len(j)==3:\n",
        "    ecuacion(n[0],n[1],n[2])\n",
        "  else:\n",
        "    print('No ingreso los tres valores')\n",
        "    ecuacion()"
      ],
      "metadata": {
        "id": "L1CQPnlC8G9c"
      },
      "execution_count": null,
      "outputs": []
    },
    {
      "cell_type": "markdown",
      "source": [
        "#**Ejercicio 6**\n",
        "\n",
        " Escriba una función que reciba una lista de números y devuelva dos listas: una con los números positivos y otra con los negativos."
      ],
      "metadata": {
        "id": "1VC6sG1wix_2"
      }
    },
    {
      "cell_type": "code",
      "source": [
        "n=input('Escriba una lista de numeros separados por una coma: ')\n",
        "p=n.split(',')\n",
        "m=[]\n",
        "a=[]\n",
        "\n",
        "try:\n",
        "  for i in p:\n",
        "    i=float(i)\n",
        "except:\n",
        "  print('Los datos ingresados no son numeros')\n",
        "else:\n",
        "  l=[float(i) for i in p]\n",
        "  for i in l:\n",
        "    if i<0:\n",
        "      m.append(i)\n",
        "    elif i>0:\n",
        "      a.append(i)\n",
        "\n",
        "print('Negativos =',m)\n",
        "print('Positivos =',a)"
      ],
      "metadata": {
        "id": "j-nKpLKG8HdU"
      },
      "execution_count": null,
      "outputs": []
    },
    {
      "cell_type": "markdown",
      "source": [
        "#**Ejercicio 7**\n",
        "\n",
        "Escriba una función que reciba una lista de datos (la de abajo) y devuelva listas con los datos filtrados. Este programa debe separar los datos en **int**, **str**, **bool**, **float**. **Hint**: use la función **append** para insertar datos en las listas."
      ],
      "metadata": {
        "id": "B3DOqZgpjxMf"
      }
    },
    {
      "cell_type": "code",
      "source": [
        "Datos= [5, 2.4, \"hola\", 7, 10, 3.14,True,False, \"Hi\", 0, 0.265]# lista a usar"
      ],
      "metadata": {
        "id": "5zQMRLNYis12"
      },
      "execution_count": null,
      "outputs": []
    },
    {
      "cell_type": "code",
      "source": [
        "Datos= [5, 2.4, \"hola\", 7, 10, 3.14,True,False, \"Hi\", 0, 0.265]\n",
        "i=[]\n",
        "s=[]\n",
        "b=[]\n",
        "f=[]\n",
        "\n",
        "for k in Datos:\n",
        "  if type(k)==int:\n",
        "    i.append(k)\n",
        "  elif type(k)==str:\n",
        "    s.append(k)\n",
        "  elif type(k)==bool:\n",
        "    b.append(k)\n",
        "  else:\n",
        "    f.append(k)\n",
        "\n",
        "print(i,s,b,f)"
      ],
      "metadata": {
        "id": "0HH0Debs8Joc"
      },
      "execution_count": null,
      "outputs": []
    },
    {
      "cell_type": "markdown",
      "source": [
        "#**Ejercicio 8**:\n",
        "\n",
        "Imprimir pirámide de asteriscos\n",
        "Descripción: Crea una función que imprima una pirámide de asteriscos usando bucles anidados, donde el número de niveles de la pirámide sea un valor dado."
      ],
      "metadata": {
        "id": "Q7XYGpfGkuD4"
      }
    },
    {
      "cell_type": "code",
      "source": [
        "def piramide(niveles):\n",
        "  i=1\n",
        "  ast=('*')\n",
        "  while i <= niveles:\n",
        "    print(ast)\n",
        "    i=i+1\n",
        "    ast=(ast+'*')\n",
        "\n",
        "piramide(5)\n",
        "\n"
      ],
      "metadata": {
        "id": "LIwTl1oH0sxa"
      },
      "execution_count": null,
      "outputs": []
    },
    {
      "cell_type": "markdown",
      "source": [
        "#**Ejercicio 9**:\n",
        "\n",
        "Escriba una función que calcule el factorial de un número, el cual debe ser ingresado por el usuario, después usted debe validar que sea un número natural mayor o igual a cero y en caso de que ingrese un número negativo, una letra o cadena, debe pedir nuevamente el número al usuario."
      ],
      "metadata": {
        "id": "xL6YMsdClOy9"
      }
    },
    {
      "cell_type": "code",
      "source": [
        "def factorial():\n",
        "  u=input(\"Ingrese un numero entero mayor o igual que 0: \")\n",
        "  try:\n",
        "    int(u)\n",
        "  except:\n",
        "    print('El valor ingresado no es un numero, por favor intente nuevamente: ')\n",
        "    factorial()\n",
        "  else:\n",
        "    k=int(u)\n",
        "    if k<0:\n",
        "      print('El valor ingresado es negativo, por favor intente nuevamente: ')\n",
        "      factorial()\n",
        "    elif k==0:\n",
        "      print('El factorial de 0 es 1')\n",
        "    else:\n",
        "      fact=1\n",
        "      for i in range(1,k+1):\n",
        "        fact=i*fact\n",
        "      print('El factorial de '+u+' es '+str(fact))\n",
        "\n",
        "factorial()"
      ],
      "metadata": {
        "id": "JYhyNp21l43j"
      },
      "execution_count": null,
      "outputs": []
    },
    {
      "cell_type": "markdown",
      "source": [
        "#**Ejercicio 10**:\n",
        "Programar una función que calcule la distancia entre dos puntos en el plano cartesiano,\n",
        "dadas sus coordenadas (x1, y1) y (x2, y2)."
      ],
      "metadata": {
        "id": "8z6e_aduTxWh"
      }
    },
    {
      "cell_type": "code",
      "source": [
        "import math\n",
        "\n",
        "def distancia():\n",
        "  i1=input('Ingrese los valores de las coordenadas x y y del primer punto separados por una coma: ')\n",
        "  i2=input('Ingrese los valores de las coordenadas x y y del segundo punto separados por una coma: ')\n",
        "  p1=i1.split(',')\n",
        "  p2=i2.split(',')\n",
        "\n",
        "  try:\n",
        "   for i in p1:\n",
        "     float(i)\n",
        "   for i in p2:\n",
        "     float(i)\n",
        "  except:\n",
        "   print('Los valores ingresados no son numeros.')\n",
        "   distancia()\n",
        "  else:\n",
        "    if len(p1)==2 and len(p2)==2:\n",
        "     d=math.sqrt((float(p1[0])-float(p2[0])**2)+((float(p1[1])-float(p2[1]))**2))\n",
        "     print('La distancia entre ambos puntos es: ',d)\n",
        "    else:\n",
        "     print('No ingreso dos valores para cada punto.')\n",
        "     distancia()\n",
        "\n",
        "distancia()"
      ],
      "metadata": {
        "id": "rKes7ySm8LJy",
        "colab": {
          "base_uri": "https://localhost:8080/"
        },
        "outputId": "1ebc93f5-db18-458f-b090-29e25acb7be7"
      },
      "execution_count": 67,
      "outputs": [
        {
          "output_type": "stream",
          "name": "stdout",
          "text": [
            "Ingrese los valores de las coordenadas x y y del primer punto separados por una coma: 1,2\n",
            "Ingrese los valores de las coordenadas x y y del segundo punto separados por una coma: 1,2\n",
            "La distancia entre ambos puntos es:  0.0\n"
          ]
        }
      ]
    },
    {
      "cell_type": "markdown",
      "source": [
        "#**Ejercicio 11**:\n",
        "Programe un script que determine si dos rectas dadas por las ecuaciones y1=m1x + b1 y y2=m2x+b2 se\n",
        "intersectan, son paralelas o coincidentes. Utilice estructuras de control (IF - ELSE)\n",
        "para manejar los diferentes casos.\n"
      ],
      "metadata": {
        "id": "YZ1CmeGNUfd6"
      }
    },
    {
      "cell_type": "code",
      "source": [
        "y1=input('Ingrese la pendiente y la ordenada al origen le la primer recta separadas por comas: ')\n",
        "y2=input('Ingrese la pendiente y la ordenada al origen le la segunda recta separadas por comas: ')\n",
        "l1=y1.split(',')\n",
        "l2=y2.split(',')\n",
        "\n",
        "def las_rectas():\n",
        "  r1=[float(i) for i in l1]\n",
        "  r2=[float(i) for i in l2]\n",
        "  if r1[0]==r2[0] and r1[1]==r2[1]:\n",
        "    print('Las rectas son coincidentes')\n",
        "  elif r1[0]==r2[0]:\n",
        "   print('Las rectas con paralelas')\n",
        "  else:\n",
        "   print('Las rectas se intersectan')\n",
        "\n",
        "try:\n",
        "  for i in l2:\n",
        "    float(i)\n",
        "  for i in l2:\n",
        "    float(i)\n",
        "except:\n",
        "  print('Los datos ingresados no son numeros')\n",
        "else:\n",
        "  if len(l1)==2 and len(l2)==2:\n",
        "    las_rectas()\n",
        "  else:\n",
        "    print('Ingreso mas o menos de dos datos')"
      ],
      "metadata": {
        "id": "oTNVz98W8LuZ",
        "colab": {
          "base_uri": "https://localhost:8080/"
        },
        "outputId": "e6831a63-fda9-4894-ee2c-bfeaf722c01f"
      },
      "execution_count": null,
      "outputs": [
        {
          "output_type": "stream",
          "name": "stdout",
          "text": [
            "Ingrese la pendiente y la ordenada al origen le la primer recta separadas por comas: 1,2\n",
            "Ingrese la pendiente y la ordenada al origen le la segunda recta separadas por comas: 3,4\n",
            "Las rectas se intersectan\n"
          ]
        }
      ]
    },
    {
      "cell_type": "markdown",
      "source": [
        "#**Ejercicio 12**:\n",
        "Iván y Miguel quieren jugar a los dados con las siguientes reglas:\n",
        "\n",
        "    Si sale 1, vuelven a lanzar.\n",
        "    Si sale 6, quedan empatados.\n",
        "    Si sale 2 ó 3 gana Iván.\n",
        "    Si sale 4 ó 5 gana Miguel.\n",
        "\n",
        "Haga un programa que le permita jugar a Iván y Miguel utilizando el condicional while. Se debe imprimir el mensaje de acuerdo a las reglas establecidas.\n",
        "**Hint** = Utilice la librería random para generar los números aleatorios."
      ],
      "metadata": {
        "id": "qdHirPx6I2ib"
      }
    },
    {
      "cell_type": "code",
      "source": [],
      "metadata": {
        "id": "dDHP_-CG8Nqg",
        "colab": {
          "base_uri": "https://localhost:8080/"
        },
        "outputId": "f959fb78-bef4-4829-a802-40070189d33d"
      },
      "execution_count": null,
      "outputs": [
        {
          "output_type": "stream",
          "name": "stdout",
          "text": [
            "3\n"
          ]
        }
      ]
    }
  ]
}